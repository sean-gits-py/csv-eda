{
 "cells": [
  {
   "cell_type": "code",
   "execution_count": null,
   "metadata": {
    "collapsed": true
   },
   "outputs": [],
   "source": [
    "#this file is a template for exploring csv files using basic eda practices\n",
    "\n",
    "#intention is to evaluate file for duplicates, and visualize basic information about dataset\n",
    "\n",
    "#the script should be versatile enough to handle many any data type in the csv\n",
    "\n",
    "import pandas as pd"
   ]
  },
  {
   "cell_type": "code",
   "execution_count": null,
   "outputs": [],
   "source": [
    "\n",
    "#load the data\n",
    "data = pd.read_csv('ecommerce_data.csv')\n",
    "\n",
    "#see the first five rows of data\n",
    "data.head()\n",
    "\n",
    "#numerical columns description\n",
    "data[['Quantity','UnitPrice','UnitDiscount','UnitWeight']].describe()"
   ],
   "metadata": {
    "collapsed": false
   }
  },
  {
   "cell_type": "code",
   "execution_count": null,
   "outputs": [],
   "source": [],
   "metadata": {
    "collapsed": false
   }
  }
 ],
 "metadata": {
  "kernelspec": {
   "display_name": "Python 3",
   "language": "python",
   "name": "python3"
  },
  "language_info": {
   "codemirror_mode": {
    "name": "ipython",
    "version": 2
   },
   "file_extension": ".py",
   "mimetype": "text/x-python",
   "name": "python",
   "nbconvert_exporter": "python",
   "pygments_lexer": "ipython2",
   "version": "2.7.6"
  }
 },
 "nbformat": 4,
 "nbformat_minor": 0
}
